{
 "cells": [
  {
   "cell_type": "code",
   "execution_count": 2,
   "metadata": {
    "colab": {
     "base_uri": "https://localhost:8080/"
    },
    "id": "bnTkSyE9w7K6",
    "outputId": "db4831a4-cd36-4341-b28e-b9c7814cd619"
   },
   "outputs": [
    {
     "name": "stdout",
     "output_type": "stream",
     "text": [
      "Mounted at /content/drive\n"
     ]
    }
   ],
   "source": [
    "from google.colab import drive\n",
    "drive.mount('/content/drive')"
   ]
  },
  {
   "cell_type": "code",
   "execution_count": 3,
   "metadata": {
    "colab": {
     "base_uri": "https://localhost:8080/"
    },
    "id": "h1ZUUwzjxAZn",
    "outputId": "53634b5b-1b2b-40a8-d331-81afcd37e0b4"
   },
   "outputs": [
    {
     "name": "stdout",
     "output_type": "stream",
     "text": [
      "/content/drive/MyDrive/Colab Notebooks/Covid-detection/COUGH-SOUND-COV-DETECTION\n"
     ]
    }
   ],
   "source": [
    "cd drive/MyDrive/Colab\\ Notebooks/Covid-detection/COUGH-SOUND-COV-DETECTION"
   ]
  },
  {
   "cell_type": "code",
   "execution_count": 11,
   "metadata": {
    "id": "IRpJNPvT1Pus"
   },
   "outputs": [],
   "source": [
    "import os"
   ]
  },
  {
   "cell_type": "code",
   "execution_count": null,
   "metadata": {
    "id": "GU2mq7VOxKa-"
   },
   "outputs": [],
   "source": [
    "os.environ['KAGGLE_CONFIG_DIR'] = \"/content/drive/MyDrive/Colab Notebooks/Kaggle\""
   ]
  },
  {
   "cell_type": "code",
   "execution_count": null,
   "metadata": {
    "colab": {
     "base_uri": "https://localhost:8080/"
    },
    "id": "S6na5UwKxNIl",
    "outputId": "b3d20873-d2fa-4f39-8002-3b958cc75c02"
   },
   "outputs": [
    {
     "name": "stdout",
     "output_type": "stream",
     "text": [
      "Downloading coronahack-respiratory-sound-dataset.zip to /content/drive/MyDrive/Colab Notebooks/Covid-detection/COUGH-SOUND-COV-DETECTION\n",
      "100% 6.81G/6.82G [01:45<00:00, 43.2MB/s]\n",
      "100% 6.82G/6.82G [01:45<00:00, 69.2MB/s]\n"
     ]
    }
   ],
   "source": [
    "!kaggle datasets download -d praveengovi/coronahack-respiratory-sound-dataset"
   ]
  },
  {
   "cell_type": "code",
   "execution_count": null,
   "metadata": {
    "id": "Fx-JjAi1xPD8"
   },
   "outputs": [],
   "source": [
    "!unzip coronahack-respiratory-sound-dataset.zip"
   ]
  },
  {
   "cell_type": "code",
   "execution_count": 4,
   "metadata": {
    "colab": {
     "base_uri": "https://localhost:8080/"
    },
    "id": "rd1kjIp9xSY8",
    "outputId": "a681fe6b-ee08-4fe6-f955-492a95a02e50"
   },
   "outputs": [
    {
     "name": "stdout",
     "output_type": "stream",
     "text": [
      "Healthy =>  1163  Covid =>  56\n"
     ]
    }
   ],
   "source": [
    "# First create two folders COVID and HEALTHY\n",
    "#Add covid cough sound samples from the 'CoronaHack-respiratory-sound-dataset' to COVID FOLDER\n",
    "\n",
    "import csv\n",
    "healthy_count=0\n",
    "covid_pos_count=0\n",
    "with open('Corona-Hack-Respiratory-Sound-Metadata.csv') as csv_file:\n",
    "    csv_reader = csv.reader(csv_file, delimiter=',')\n",
    "    for row in csv_reader:\n",
    "        COVID_STATUS=row[3]\n",
    "        if(COVID_STATUS=='healthy'):\n",
    "            healthy_count+=1\n",
    "        elif(COVID_STATUS=='positive_mild' or COVID_STATUS=='positive_asymp' or COVID_STATUS=='positive_moderate'):\n",
    "            covid_pos_count+=1\n",
    "    \n",
    "print(\"Healthy => \",healthy_count,\" Covid => \",covid_pos_count)"
   ]
  },
  {
   "cell_type": "code",
   "execution_count": 8,
   "metadata": {
    "colab": {
     "base_uri": "https://localhost:8080/"
    },
    "id": "Hmc6CM0d2kEz",
    "outputId": "d882962a-ccd9-4778-e23d-a5497e42b4fd"
   },
   "outputs": [
    {
     "name": "stdout",
     "output_type": "stream",
     "text": [
      "COVID_STATUS\n",
      "DATES\n",
      "cough-heavy\n",
      "cough-shallow\n"
     ]
    }
   ],
   "source": [
    "with open('Corona-Hack-Respiratory-Sound-Metadata.csv') as csv_file:\n",
    "    csv_reader = csv.reader(csv_file, delimiter=',')\n",
    "    for row in csv_reader:\n",
    "      print(row[3])\n",
    "      print(row[27])\n",
    "      print(row[30])\n",
    "      print(row[31])\n",
    "      break"
   ]
  },
  {
   "cell_type": "code",
   "execution_count": 14,
   "metadata": {
    "id": "ce32w4zzAnuA"
   },
   "outputs": [],
   "source": [
    "import shutil\n",
    "counter=1\n",
    "sub_folder=' '\n",
    "with open('Corona-Hack-Respiratory-Sound-Metadata.csv') as csv_file:\n",
    "    csv_reader = csv.reader(csv_file, delimiter=',')\n",
    "    for row in csv_reader:\n",
    "        COVID_STATUS=row[3]\n",
    "\n",
    "        if(row[27]!=sub_folder):\n",
    "            sub_folder=row[27]\n",
    "            counter=1\n",
    "        \n",
    "        if(COVID_STATUS=='positive_mild' or COVID_STATUS=='positive_asymp' or COVID_STATUS=='positive_moderate'):\n",
    "            shutil.copy('CoronaHack-Respiratory-Sound-Dataset'+row[30],'COVID/'+str(sub_folder)+'-h-'+str(counter)+'.wav') \n",
    "            shutil.copy('CoronaHack-Respiratory-Sound-Dataset'+row[31],'COVID/'+str(sub_folder)+'-s-'+str(counter)+'.wav')\n",
    "            counter+=1"
   ]
  },
  {
   "cell_type": "code",
   "execution_count": 15,
   "metadata": {
    "colab": {
     "base_uri": "https://localhost:8080/"
    },
    "id": "zghlcgneH0PA",
    "outputId": "88b18f9f-4734-4c1d-9c73-18e5bbd5409a"
   },
   "outputs": [
    {
     "data": {
      "text/plain": [
       "112"
      ]
     },
     "execution_count": 15,
     "metadata": {
      "tags": []
     },
     "output_type": "execute_result"
    }
   ],
   "source": [
    "len([file for file in os.listdir('COVID')])"
   ]
  },
  {
   "cell_type": "code",
   "execution_count": null,
   "metadata": {
    "id": "BPxOfsaA29Wy"
   },
   "outputs": [],
   "source": [
    "# Add the COUGHVID covid samples as well as new samples from coswara to the COVID folder (folders prepared in prepare_dataset_1.ipynb)"
   ]
  },
  {
   "cell_type": "code",
   "execution_count": 20,
   "metadata": {
    "id": "iBb1ych83QIU"
   },
   "outputs": [],
   "source": [
    "for file in os.listdir('COSWARA-NEW-COVID-SAMPLES'):\n",
    "    shutil.move('COSWARA-NEW-COVID-SAMPLES/'+file,'COVID/'+file)"
   ]
  },
  {
   "cell_type": "code",
   "execution_count": 22,
   "metadata": {
    "id": "q7XIytQQ4-w5"
   },
   "outputs": [],
   "source": [
    "for file in os.listdir('COUGHVID-COVID-SAMPLES'):\n",
    "    shutil.move('COUGHVID-COVID-SAMPLES/'+file,'COVID/'+file)"
   ]
  },
  {
   "cell_type": "code",
   "execution_count": 24,
   "metadata": {
    "colab": {
     "base_uri": "https://localhost:8080/"
    },
    "id": "_UeiBIZm4-_Y",
    "outputId": "93632816-5cec-42b8-a442-6124ca83a2e6"
   },
   "outputs": [
    {
     "data": {
      "text/plain": [
       "634"
      ]
     },
     "execution_count": 24,
     "metadata": {
      "tags": []
     },
     "output_type": "execute_result"
    }
   ],
   "source": [
    "len([file for file in os.listdir('COVID')])"
   ]
  },
  {
   "cell_type": "code",
   "execution_count": 25,
   "metadata": {
    "colab": {
     "base_uri": "https://localhost:8080/"
    },
    "id": "Wm2yaR7-8B85",
    "outputId": "4012b562-5b02-4b2f-c28c-c1d9623e800f"
   },
   "outputs": [
    {
     "data": {
      "text/plain": [
       "1268"
      ]
     },
     "execution_count": 25,
     "metadata": {
      "tags": []
     },
     "output_type": "execute_result"
    }
   ],
   "source": [
    "#1268 healthy cough sounds are taken from COUGHVID dataset\n",
    "len([file for file in os.listdir('HEALTHY')])"
   ]
  },
  {
   "cell_type": "markdown",
   "metadata": {
    "id": "tvKd8_eWcr0c"
   },
   "source": [
    "SPLITTING TO TRAIN, TEST, AND VALIDATION FOLDERS (80%, 10%, 10%)"
   ]
  },
  {
   "cell_type": "code",
   "execution_count": 33,
   "metadata": {
    "id": "75y2aREmE42P"
   },
   "outputs": [],
   "source": [
    "num=0\n",
    "for file in os.listdir('COVID'):\n",
    "    num+=1\n",
    "    if num<=63:\n",
    "        shutil.copy('COVID/'+file,'val/COVID/'+file)\n",
    "    elif num<= 126:\n",
    "        shutil.copy('COVID/'+file,'test/COVID/'+file)\n",
    "    else:\n",
    "        shutil.copy('COVID/'+file,'train/COVID/'+file)"
   ]
  },
  {
   "cell_type": "code",
   "execution_count": 34,
   "metadata": {
    "colab": {
     "base_uri": "https://localhost:8080/"
    },
    "id": "ElU2wvWkDSxo",
    "outputId": "ad8d2cd7-032c-4bee-b8b4-f8774a4e4f3c"
   },
   "outputs": [
    {
     "name": "stdout",
     "output_type": "stream",
     "text": [
      " train/COVID => 508\n",
      " test/COVID => 63\n",
      " val/COVID => 63\n"
     ]
    }
   ],
   "source": [
    "print(\" train/COVID =>\",len([file for file in os.listdir('train/COVID')]))\n",
    "print(\" test/COVID =>\",len([file for file in os.listdir('test/COVID')]))\n",
    "print(\" val/COVID =>\",len([file for file in os.listdir('val/COVID')]))"
   ]
  },
  {
   "cell_type": "code",
   "execution_count": 35,
   "metadata": {
    "id": "qUIVBxaBltGk"
   },
   "outputs": [],
   "source": [
    "num=0\n",
    "for file in os.listdir('HEALTHY'):\n",
    "    num+=1\n",
    "    if num<=126:\n",
    "        shutil.copy('HEALTHY/'+file,'val/HEALTHY/'+file)\n",
    "    elif num<=252:\n",
    "        shutil.copy('HEALTHY/'+file,'test/HEALTHY/'+file)\n",
    "    else:\n",
    "        shutil.copy('HEALTHY/'+file,'train/HEALTHY/'+file)"
   ]
  },
  {
   "cell_type": "code",
   "execution_count": 36,
   "metadata": {
    "colab": {
     "base_uri": "https://localhost:8080/"
    },
    "id": "un1IJ1ZdoOn3",
    "outputId": "93fbe2d2-6c00-48aa-aabd-dc0a26f76381"
   },
   "outputs": [
    {
     "name": "stdout",
     "output_type": "stream",
     "text": [
      " train/HEALTHY => 1016\n",
      " test/HEALTHY => 126\n",
      " val/HEALTHY => 126\n"
     ]
    }
   ],
   "source": [
    "print(\" train/HEALTHY =>\",len([file for file in os.listdir('train/HEALTHY')]))\n",
    "print(\" test/HEALTHY =>\",len([file for file in os.listdir('test/HEALTHY')]))\n",
    "print(\" val/HEALTHY =>\",len([file for file in os.listdir('val/HEALTHY')]))"
   ]
  },
  {
   "cell_type": "markdown",
   "metadata": {
    "id": "lcBDX8P2pVL_"
   },
   "source": [
    "### *DATA AUGMENTATATION* - As we have only 634 samples of covid cough sounds data augmentation is done"
   ]
  },
  {
   "cell_type": "code",
   "execution_count": null,
   "metadata": {
    "id": "Nx7fkuguI3FF"
   },
   "outputs": [],
   "source": [
    "!pip install audiomentations"
   ]
  },
  {
   "cell_type": "code",
   "execution_count": 41,
   "metadata": {
    "id": "6YqcVH56IdKN"
   },
   "outputs": [],
   "source": [
    "from audiomentations import Compose, AddGaussianNoise, TimeStretch, PitchShift, Shift\n",
    "import soundfile as sf\n",
    "import librosa"
   ]
  },
  {
   "cell_type": "code",
   "execution_count": null,
   "metadata": {
    "id": "0naebn4yI2Ai"
   },
   "outputs": [],
   "source": [
    "augment = Compose([\n",
    "    AddGaussianNoise(min_amplitude=0.001, max_amplitude=0.015, p=0.5),\n",
    "    TimeStretch(min_rate=0.8, max_rate=1.25, p=0.5),\n",
    "    PitchShift(min_semitones=-4, max_semitones=4, p=0.5),\n",
    "    Shift(min_fraction=-0.5, max_fraction=0.5, p=0.5),\n",
    "])\n",
    "\n",
    "sets = ['train/COVID','test/COVID','val/COVID']\n",
    "\n",
    "for s in sets:\n",
    "    for audio_file in os.listdir(s):\n",
    "        samples, sr = librosa.load(s+'/'+audio_file)\n",
    "        augmented_sample = augment(samples=samples, sample_rate=sr)\n",
    "        sf.write(s+'/aug_'+audio_file, augmented_sample, sr)"
   ]
  },
  {
   "cell_type": "code",
   "execution_count": 44,
   "metadata": {
    "colab": {
     "base_uri": "https://localhost:8080/"
    },
    "id": "QuWSItW6K-X-",
    "outputId": "fa6f5ba0-64bd-483a-9b23-8be8796b5222"
   },
   "outputs": [
    {
     "name": "stdout",
     "output_type": "stream",
     "text": [
      " train/COVID => 1016\n",
      " test/COVID => 126\n",
      " val/COVID => 126\n"
     ]
    }
   ],
   "source": [
    "print(\" train/COVID =>\",len([file for file in os.listdir('train/COVID')]))\n",
    "print(\" test/COVID =>\",len([file for file in os.listdir('test/COVID')]))\n",
    "print(\" val/COVID =>\",len([file for file in os.listdir('val/COVID')]))"
   ]
  },
  {
   "cell_type": "code",
   "execution_count": null,
   "metadata": {
    "id": "pp71TrmRMx3_"
   },
   "outputs": [],
   "source": []
  }
 ],
 "metadata": {
  "colab": {
   "name": "prepare_dataset.ipynb",
   "provenance": []
  },
  "kernelspec": {
   "display_name": "Python 3",
   "language": "python",
   "name": "python3"
  },
  "language_info": {
   "codemirror_mode": {
    "name": "ipython",
    "version": 3
   },
   "file_extension": ".py",
   "mimetype": "text/x-python",
   "name": "python",
   "nbconvert_exporter": "python",
   "pygments_lexer": "ipython3",
   "version": "3.8.3"
  }
 },
 "nbformat": 4,
 "nbformat_minor": 1
}
