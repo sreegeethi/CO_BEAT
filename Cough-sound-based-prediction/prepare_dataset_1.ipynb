{
 "cells": [
  {
   "cell_type": "code",
   "execution_count": 2,
   "metadata": {},
   "outputs": [],
   "source": [
    "import csv\n",
    "import shutil\n",
    "import os\n",
    "import json"
   ]
  },
  {
   "cell_type": "markdown",
   "metadata": {},
   "source": [
    "### SELECT COVID SAMPLES FROM COUGHVID DATASET "
   ]
  },
  {
   "cell_type": "code",
   "execution_count": 117,
   "metadata": {},
   "outputs": [],
   "source": [
    "# If expert labels are available then Quality = poor , no_cough are removed so we obtain 378 samples"
   ]
  },
  {
   "cell_type": "code",
   "execution_count": 1,
   "metadata": {},
   "outputs": [],
   "source": [
    "count=0\n",
    "covid_samples_count=0\n",
    "reduced=0\n",
    "bad=0\n",
    "\n",
    "selected_filenames=[]\n",
    "\n",
    "for file in os.listdir('public_dataset'):\n",
    "    if file.endswith(\".json\"):\n",
    "        count+=1\n",
    "        \n",
    "        path=os.path.join('public_dataset',file)\n",
    "        \n",
    "        f=open(path,\"r\")\n",
    "        data=json.loads(f.read())\n",
    "        \n",
    "        if float(data['cough_detected'])>0.9:\n",
    "            if 'status' in data:\n",
    "                if(data['status']=='COVID-19'):\n",
    "                    covid_samples_count+=1\n",
    "\n",
    "                    if 'expert_labels_1' in data:\n",
    "                        if(data['expert_labels_1']['quality']=='ok' or data['expert_labels_1']['quality']=='good'):\n",
    "                            reduced+=1\n",
    "                            selected_filenames.append(path)\n",
    "                    elif 'expert_labels_2' in data:\n",
    "                        if(data['expert_labels_2']['quality']=='ok' or data['expert_labels_2']['quality']=='good'):\n",
    "                            reduced+=1\n",
    "                            selected_filenames.append(path)\n",
    "                    elif 'expert_labels_3' in data:\n",
    "                        if(data['expert_labels_3']['quality']=='ok' or data['expert_labels_3']['quality']=='good'):\n",
    "                            reduced+=1\n",
    "                            selected_filenames.append(path)\n",
    "                    else:\n",
    "                        reduced+=1\n",
    "                        selected_filenames.append(path)"
   ]
  },
  {
   "cell_type": "code",
   "execution_count": 2,
   "metadata": {},
   "outputs": [
    {
     "name": "stdout",
     "output_type": "stream",
     "text": [
      "Total Number of samples : 20072\n",
      "\n",
      "Total Number of COVID-19 samples with cough_detected score>0.9 : 441\n",
      "\n",
      "Expert labeled COVID-19 samples with quality good/ok OR not expert labelled : 378\n"
     ]
    }
   ],
   "source": [
    "print(\"Total Number of samples :\",count)\n",
    "print(\"\\nTotal Number of COVID-19 samples with cough_detected score>0.9 :\",covid_samples_count)\n",
    "print(\"\\nExpert labeled COVID-19 samples with quality good/ok OR not expert labelled :\",reduced)"
   ]
  },
  {
   "cell_type": "code",
   "execution_count": 13,
   "metadata": {},
   "outputs": [],
   "source": [
    "# Note - ALL FILES WERE CONVERTED TO .wav format first"
   ]
  },
  {
   "cell_type": "code",
   "execution_count": 7,
   "metadata": {},
   "outputs": [],
   "source": [
    "for i in selected_filenames:\n",
    "    name=os.path.splitext(i)[0]\n",
    "    filepath=name+'.wav'\n",
    "    shutil.copy(filepath,'COUGHVID-COVID-SAMPLES/')"
   ]
  },
  {
   "cell_type": "code",
   "execution_count": 8,
   "metadata": {},
   "outputs": [
    {
     "name": "stdout",
     "output_type": "stream",
     "text": [
      "378\n"
     ]
    }
   ],
   "source": [
    "c=0\n",
    "for f in os.listdir('COUGHVID-COVID-SAMPLES/'):\n",
    "    c+=1\n",
    "print(c)"
   ]
  },
  {
   "cell_type": "code",
   "execution_count": 2,
   "metadata": {},
   "outputs": [],
   "source": [
    "#remove the .webm and .ogg files (keep only .wav)\n",
    "for file in os.listdir('public_dataset'):\n",
    "    if file.endswith(\".webm\") or file.endswith(\".ogg\"):\n",
    "        os.remove('public_dataset/'+file)"
   ]
  },
  {
   "cell_type": "markdown",
   "metadata": {},
   "source": [
    "### SELECT HEALTHY SAMPLES FROM COUGHVID DATASET"
   ]
  },
  {
   "cell_type": "code",
   "execution_count": 14,
   "metadata": {},
   "outputs": [],
   "source": [
    "healthy_samples=0\n",
    "reduced=0\n",
    "paths=[]\n",
    "\n",
    "for file in os.listdir('public_dataset'):\n",
    "    if file.endswith(\".json\"):\n",
    "        \n",
    "        path=os.path.join('public_dataset',file)\n",
    "        \n",
    "        f=open(path,\"r\")\n",
    "        data=json.loads(f.read())\n",
    "        \n",
    "        if float(data['cough_detected'])>0.9:\n",
    "            if 'status' in data:\n",
    "                if(data['status']=='healthy'):\n",
    "                    healthy_samples+=1\n",
    "\n",
    "                    if 'expert_labels_1' in data:\n",
    "                        if((data['expert_labels_1']['quality']=='ok' or data['expert_labels_1']['quality']=='good')):\n",
    "                            reduced+=1\n",
    "                            paths.append(path)\n",
    "                    elif 'expert_labels_2' in data:\n",
    "                        if((data['expert_labels_2']['quality']=='ok' or data['expert_labels_2']['quality']=='good')):\n",
    "                            reduced+=1\n",
    "                            paths.append(path)\n",
    "                    elif 'expert_labels_3' in data:\n",
    "                        if((data['expert_labels_3']['quality']=='ok' or data['expert_labels_3']['quality']=='good')):\n",
    "                            reduced+=1\n",
    "                            paths.append(path)\n",
    "                    else:\n",
    "                        reduced+=1\n",
    "                        paths.append(path)\n",
    "                        \n",
    "    if reduced==1268:\n",
    "        break"
   ]
  },
  {
   "cell_type": "code",
   "execution_count": 18,
   "metadata": {},
   "outputs": [
    {
     "name": "stdout",
     "output_type": "stream",
     "text": [
      "Number of healthy cough sound samples considered :  1268\n"
     ]
    }
   ],
   "source": [
    "print(\"Number of healthy cough sound samples considered : \",reduced)"
   ]
  },
  {
   "cell_type": "code",
   "execution_count": 19,
   "metadata": {},
   "outputs": [],
   "source": [
    "for i in paths:\n",
    "    name=os.path.splitext(i)[0]\n",
    "    filepath=name+'.wav'\n",
    "    shutil.copy(filepath,'COUGHVID-HEALTHY-SAMPLES/')"
   ]
  },
  {
   "cell_type": "markdown",
   "metadata": {},
   "source": [
    "### Extract covid cough sound samples from directories not in the kaggle dataset (which is a subset of COSWARA dataset)"
   ]
  },
  {
   "cell_type": "code",
   "execution_count": 11,
   "metadata": {},
   "outputs": [],
   "source": [
    "path='coswara-new-folders/'\n",
    "\n",
    "sub_folder=''\n",
    "\n",
    "with open('dataset-metadata - Sheet1.csv') as csv_file:\n",
    "    csv_reader=csv.reader(csv_file,delimiter=',')\n",
    "    \n",
    "    for row in csv_reader:\n",
    "        if(row[0]!=sub_folder):\n",
    "            counter = 1\n",
    "            sub_folder = row[0]\n",
    "        \n",
    "        sub_sub = os.path.join(path,sub_folder,row[1])\n",
    "        \n",
    "        if os.path.isdir(sub_sub) and len(os.listdir(sub_sub))!= 0:\n",
    "            COVID_STATUS=row[3]\n",
    "            if(COVID_STATUS=='positive_mild' or COVID_STATUS=='positive_asymp' or COVID_STATUS=='positive_moderate'):\n",
    "                shutil.copy(sub_sub+'/cough-heavy.wav','COSWARA-NEW-COVID-SAMPLES/'+str(sub_folder)+'-h-'+str(counter)+'.wav')\n",
    "                shutil.copy(sub_sub+'/cough-shallow.wav','COSWARA-NEW-COVID-SAMPLES/'+str(sub_folder)+'-s-'+str(counter)+'.wav')\n",
    "                counter+=1"
   ]
  },
  {
   "cell_type": "markdown",
   "metadata": {},
   "source": [
    "### Extract only heavy-cough.wav (remove shallow-cough.wav)"
   ]
  },
  {
   "cell_type": "code",
   "execution_count": 8,
   "metadata": {},
   "outputs": [],
   "source": [
    "import os\n",
    "import re\n",
    "\n",
    "pattern = '[0-9]*-h-[0-9]*.wav$'\n",
    "\n",
    "for file in os.listdir('COSWARA-NEW-COVID-SAMPLES'):\n",
    "    if re.match(pattern,file):\n",
    "        shutil.copy('COSWARA-NEW-COVID-SAMPLES/'+file,'COSWARA-NEW-HEAVY/'+file)"
   ]
  },
  {
   "cell_type": "code",
   "execution_count": null,
   "metadata": {},
   "outputs": [],
   "source": []
  }
 ],
 "metadata": {
  "kernelspec": {
   "display_name": "Python 3",
   "language": "python",
   "name": "python3"
  },
  "language_info": {
   "codemirror_mode": {
    "name": "ipython",
    "version": 3
   },
   "file_extension": ".py",
   "mimetype": "text/x-python",
   "name": "python",
   "nbconvert_exporter": "python",
   "pygments_lexer": "ipython3",
   "version": "3.8.3"
  }
 },
 "nbformat": 4,
 "nbformat_minor": 4
}
